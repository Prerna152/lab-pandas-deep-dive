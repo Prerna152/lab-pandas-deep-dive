{
 "cells": [
  {
   "cell_type": "markdown",
   "metadata": {},
   "source": [
    "# Pandas Deep-Dive\n",
    "\n"
   ]
  },
  {
   "cell_type": "markdown",
   "metadata": {},
   "source": [
    "#### 1. Import Pandas package under the alias pd and Numpy under the alias np."
   ]
  },
  {
   "cell_type": "code",
   "execution_count": 1,
   "metadata": {},
   "outputs": [],
   "source": [
    "# your code here\n",
    "import pandas as pd\n",
    "import numpy as np"
   ]
  },
  {
   "cell_type": "markdown",
   "metadata": {},
   "source": [
    "#### 2. Use the `apple_store.sql` file to create a new database in mySQL workbench with that data. Once loaded, try to answer the following questions using mySQL workbench:\n",
    "\n",
    " - How many apps are there in the data source?\n",
    " - What is the average rating of all apps?\n",
    " - How many apps have an average rating no less than 4?\n",
    " - How many genres are there in total for all the apps?\n",
    " - Which genre is most likely to contain free apps?"
   ]
  },
  {
   "cell_type": "code",
   "execution_count": null,
   "metadata": {},
   "outputs": [],
   "source": [
    "# your answers here\n",
    "How many apps are there in the data source?\n",
    "SELECT COUNT(*) AS total_apps\n",
    "          FROM apple_store;\n",
    "Ans) 7197\n",
    "\n",
    "What is the average rating of all apps?\n",
    "SELECT AVG(user_rating) AS avg_rating\n",
    "FROM apple_store;\n",
    "Ans) 3.526955675976101\n",
    "\n",
    "How many apps have an average rating no less than 4?\n",
    "SELECT COUNT(*) AS apps_rating_above_4\n",
    "FROM apple_store\n",
    "WHERE user_rating >= 4;\n",
    "Ans) 4781\n",
    "\n",
    "How many genres are there in total for all the apps?\n",
    "SELECT COUNT(DISTINCT prime_genre) AS total_genres\n",
    "FROM apple_store;\n",
    "Ans)23\n",
    "\n",
    "Which genre is most likely to contain free apps?\n",
    "SELECT prime_genre, COUNT(*) AS free_apps_count\n",
    "FROM apple_store\n",
    "WHERE price = 0\n",
    "GROUP BY prime_genre\n",
    "ORDER BY free_apps_count DESC\n",
    "LIMIT 1;\n",
    "Ans)2257\n"
   ]
  },
  {
   "cell_type": "markdown",
   "metadata": {},
   "source": [
    "#### 3. Create a SQL connection in this notebook and load the `apple_store` dataset. Assign it to a variable called `data`, which would be a pandas dataframe."
   ]
  },
  {
   "cell_type": "code",
   "execution_count": 4,
   "metadata": {},
   "outputs": [
    {
     "name": "stdout",
     "output_type": "stream",
     "text": [
      "Error: 1049 (42000): Unknown database 'apple_store'\n",
      "Error loading data: MySQL Connection not available.\n",
      "MySQL connection closed\n"
     ]
    },
    {
     "name": "stderr",
     "output_type": "stream",
     "text": [
      "C:\\Users\\navin\\AppData\\Local\\Temp\\ipykernel_19636\\1785811708.py:26: UserWarning: pandas only supports SQLAlchemy connectable (engine/connection) or database string URI or sqlite3 DBAPI2 connection. Other DBAPI2 objects are not tested. Please consider using SQLAlchemy.\n",
      "  data = pd.read_sql(query, con=conn)\n"
     ]
    },
    {
     "data": {
      "text/html": [
       "<div>\n",
       "<style scoped>\n",
       "    .dataframe tbody tr th:only-of-type {\n",
       "        vertical-align: middle;\n",
       "    }\n",
       "\n",
       "    .dataframe tbody tr th {\n",
       "        vertical-align: top;\n",
       "    }\n",
       "\n",
       "    .dataframe thead th {\n",
       "        text-align: right;\n",
       "    }\n",
       "</style>\n",
       "<table border=\"1\" class=\"dataframe\">\n",
       "  <thead>\n",
       "    <tr style=\"text-align: right;\">\n",
       "      <th></th>\n",
       "      <th>id</th>\n",
       "      <th>track_name</th>\n",
       "      <th>size_bytes</th>\n",
       "      <th>price</th>\n",
       "      <th>rating_count_tot</th>\n",
       "      <th>rating_count_ver</th>\n",
       "      <th>user_rating</th>\n",
       "      <th>user_rating_ver</th>\n",
       "      <th>prime_genre</th>\n",
       "    </tr>\n",
       "  </thead>\n",
       "  <tbody>\n",
       "    <tr>\n",
       "      <th>0</th>\n",
       "      <td>281656475</td>\n",
       "      <td>PAC-MAN Premium</td>\n",
       "      <td>100788224</td>\n",
       "      <td>3.99</td>\n",
       "      <td>21292</td>\n",
       "      <td>26</td>\n",
       "      <td>4</td>\n",
       "      <td>4.5</td>\n",
       "      <td>Games</td>\n",
       "    </tr>\n",
       "    <tr>\n",
       "      <th>1</th>\n",
       "      <td>281796108</td>\n",
       "      <td>Evernote - stay organized</td>\n",
       "      <td>158578688</td>\n",
       "      <td>0</td>\n",
       "      <td>161065</td>\n",
       "      <td>26</td>\n",
       "      <td>4</td>\n",
       "      <td>3.5</td>\n",
       "      <td>Productivity</td>\n",
       "    </tr>\n",
       "    <tr>\n",
       "      <th>2</th>\n",
       "      <td>281940292</td>\n",
       "      <td>\"WeatherBug - Local Weather, Radar, Maps, Alerts\"</td>\n",
       "      <td>100524032</td>\n",
       "      <td>0</td>\n",
       "      <td>188583</td>\n",
       "      <td>2822</td>\n",
       "      <td>3.5</td>\n",
       "      <td>4.5</td>\n",
       "      <td>Weather</td>\n",
       "    </tr>\n",
       "    <tr>\n",
       "      <th>3</th>\n",
       "      <td>282614216</td>\n",
       "      <td>\"eBay: Best App to Buy, Sell, Save! Online Sho...</td>\n",
       "      <td>128512000</td>\n",
       "      <td>0</td>\n",
       "      <td>262241</td>\n",
       "      <td>649</td>\n",
       "      <td>4</td>\n",
       "      <td>4.5</td>\n",
       "      <td>Shopping</td>\n",
       "    </tr>\n",
       "    <tr>\n",
       "      <th>4</th>\n",
       "      <td>282935706</td>\n",
       "      <td>Bible</td>\n",
       "      <td>92774400</td>\n",
       "      <td>0</td>\n",
       "      <td>985920</td>\n",
       "      <td>5320</td>\n",
       "      <td>4.5</td>\n",
       "      <td>5</td>\n",
       "      <td>Reference</td>\n",
       "    </tr>\n",
       "  </tbody>\n",
       "</table>\n",
       "</div>"
      ],
      "text/plain": [
       "          id                                         track_name size_bytes  \\\n",
       "0  281656475                                    PAC-MAN Premium  100788224   \n",
       "1  281796108                          Evernote - stay organized  158578688   \n",
       "2  281940292  \"WeatherBug - Local Weather, Radar, Maps, Alerts\"  100524032   \n",
       "3  282614216  \"eBay: Best App to Buy, Sell, Save! Online Sho...  128512000   \n",
       "4  282935706                                              Bible   92774400   \n",
       "\n",
       "  price rating_count_tot rating_count_ver user_rating user_rating_ver  \\\n",
       "0  3.99            21292               26           4             4.5   \n",
       "1     0           161065               26           4             3.5   \n",
       "2     0           188583             2822         3.5             4.5   \n",
       "3     0           262241              649           4             4.5   \n",
       "4     0           985920             5320         4.5               5   \n",
       "\n",
       "    prime_genre  \n",
       "0         Games  \n",
       "1  Productivity  \n",
       "2       Weather  \n",
       "3      Shopping  \n",
       "4     Reference  "
      ]
     },
     "execution_count": 4,
     "metadata": {},
     "output_type": "execute_result"
    }
   ],
   "source": [
    "# your code here\n",
    "# Import necessary libraries\n",
    "import pandas as pd\n",
    "import mysql.connector\n",
    "\n",
    "# MySQL connection parameters\n",
    "db_config = {\n",
    "    'user': 'root',\n",
    "    'password': 'Test123456789!',\n",
    "    'host': 'localhost',\n",
    "    'database': 'apple_store' \n",
    "}\n",
    "\n",
    "# Establish a connection to MySQL\n",
    "try:\n",
    "    conn = mysql.connector.connect(**db_config)\n",
    "    print(\"Connected to MySQL database\")\n",
    "except mysql.connector.Error as err:\n",
    "    print(f\"Error: {err}\")\n",
    "\n",
    "# SQL query to fetch data from the 'apple_store' table in MySQL\n",
    "query = \"SELECT * FROM apple_store\"\n",
    "\n",
    "# Load data into a Pandas DataFrame\n",
    "try:\n",
    "    data = pd.read_sql(query, con=conn)\n",
    "    print(\"Data loaded successfully into Pandas DataFrame\")\n",
    "except Exception as e:\n",
    "    print(f\"Error loading data: {str(e)}\")\n",
    "\n",
    "# Close the MySQL connection\n",
    "conn.close()\n",
    "print(\"MySQL connection closed\")\n",
    "\n",
    "# Display the first few rows of the DataFrame\n",
    "data.head()\n"
   ]
  },
  {
   "cell_type": "markdown",
   "metadata": {},
   "source": [
    "#### 4. Print the first 5 rows of `data` to see what the data look like.\n",
    "\n",
    "A data analyst usually does this to have a general understanding about what the data look like before digging deep."
   ]
  },
  {
   "cell_type": "code",
   "execution_count": 6,
   "metadata": {},
   "outputs": [
    {
     "name": "stdout",
     "output_type": "stream",
     "text": [
      "Error loading data: MySQL Connection not available.\n",
      "MySQL connection closed\n"
     ]
    },
    {
     "name": "stderr",
     "output_type": "stream",
     "text": [
      "C:\\Users\\navin\\AppData\\Local\\Temp\\ipykernel_19636\\158044806.py:7: UserWarning: pandas only supports SQLAlchemy connectable (engine/connection) or database string URI or sqlite3 DBAPI2 connection. Other DBAPI2 objects are not tested. Please consider using SQLAlchemy.\n",
      "  data = pd.read_sql(query, con=conn)\n"
     ]
    },
    {
     "data": {
      "text/html": [
       "<div>\n",
       "<style scoped>\n",
       "    .dataframe tbody tr th:only-of-type {\n",
       "        vertical-align: middle;\n",
       "    }\n",
       "\n",
       "    .dataframe tbody tr th {\n",
       "        vertical-align: top;\n",
       "    }\n",
       "\n",
       "    .dataframe thead th {\n",
       "        text-align: right;\n",
       "    }\n",
       "</style>\n",
       "<table border=\"1\" class=\"dataframe\">\n",
       "  <thead>\n",
       "    <tr style=\"text-align: right;\">\n",
       "      <th></th>\n",
       "      <th>id</th>\n",
       "      <th>track_name</th>\n",
       "      <th>size_bytes</th>\n",
       "      <th>price</th>\n",
       "      <th>rating_count_tot</th>\n",
       "      <th>rating_count_ver</th>\n",
       "      <th>user_rating</th>\n",
       "      <th>user_rating_ver</th>\n",
       "      <th>prime_genre</th>\n",
       "    </tr>\n",
       "  </thead>\n",
       "  <tbody>\n",
       "    <tr>\n",
       "      <th>0</th>\n",
       "      <td>281656475</td>\n",
       "      <td>PAC-MAN Premium</td>\n",
       "      <td>100788224</td>\n",
       "      <td>3.99</td>\n",
       "      <td>21292</td>\n",
       "      <td>26</td>\n",
       "      <td>4</td>\n",
       "      <td>4.5</td>\n",
       "      <td>Games</td>\n",
       "    </tr>\n",
       "    <tr>\n",
       "      <th>1</th>\n",
       "      <td>281796108</td>\n",
       "      <td>Evernote - stay organized</td>\n",
       "      <td>158578688</td>\n",
       "      <td>0</td>\n",
       "      <td>161065</td>\n",
       "      <td>26</td>\n",
       "      <td>4</td>\n",
       "      <td>3.5</td>\n",
       "      <td>Productivity</td>\n",
       "    </tr>\n",
       "    <tr>\n",
       "      <th>2</th>\n",
       "      <td>281940292</td>\n",
       "      <td>\"WeatherBug - Local Weather, Radar, Maps, Alerts\"</td>\n",
       "      <td>100524032</td>\n",
       "      <td>0</td>\n",
       "      <td>188583</td>\n",
       "      <td>2822</td>\n",
       "      <td>3.5</td>\n",
       "      <td>4.5</td>\n",
       "      <td>Weather</td>\n",
       "    </tr>\n",
       "    <tr>\n",
       "      <th>3</th>\n",
       "      <td>282614216</td>\n",
       "      <td>\"eBay: Best App to Buy, Sell, Save! Online Sho...</td>\n",
       "      <td>128512000</td>\n",
       "      <td>0</td>\n",
       "      <td>262241</td>\n",
       "      <td>649</td>\n",
       "      <td>4</td>\n",
       "      <td>4.5</td>\n",
       "      <td>Shopping</td>\n",
       "    </tr>\n",
       "    <tr>\n",
       "      <th>4</th>\n",
       "      <td>282935706</td>\n",
       "      <td>Bible</td>\n",
       "      <td>92774400</td>\n",
       "      <td>0</td>\n",
       "      <td>985920</td>\n",
       "      <td>5320</td>\n",
       "      <td>4.5</td>\n",
       "      <td>5</td>\n",
       "      <td>Reference</td>\n",
       "    </tr>\n",
       "  </tbody>\n",
       "</table>\n",
       "</div>"
      ],
      "text/plain": [
       "          id                                         track_name size_bytes  \\\n",
       "0  281656475                                    PAC-MAN Premium  100788224   \n",
       "1  281796108                          Evernote - stay organized  158578688   \n",
       "2  281940292  \"WeatherBug - Local Weather, Radar, Maps, Alerts\"  100524032   \n",
       "3  282614216  \"eBay: Best App to Buy, Sell, Save! Online Sho...  128512000   \n",
       "4  282935706                                              Bible   92774400   \n",
       "\n",
       "  price rating_count_tot rating_count_ver user_rating user_rating_ver  \\\n",
       "0  3.99            21292               26           4             4.5   \n",
       "1     0           161065               26           4             3.5   \n",
       "2     0           188583             2822         3.5             4.5   \n",
       "3     0           262241              649           4             4.5   \n",
       "4     0           985920             5320         4.5               5   \n",
       "\n",
       "    prime_genre  \n",
       "0         Games  \n",
       "1  Productivity  \n",
       "2       Weather  \n",
       "3      Shopping  \n",
       "4     Reference  "
      ]
     },
     "execution_count": 6,
     "metadata": {},
     "output_type": "execute_result"
    }
   ],
   "source": [
    "# your code here\n",
    "# SQL query to fetch data from the 'apple_store' table in MySQL\n",
    "query = \"SELECT * FROM apple_store\"\n",
    "\n",
    "# Load data into a Pandas DataFrame\n",
    "try:\n",
    "    data = pd.read_sql(query, con=conn)\n",
    "    print(\"Data loaded successfully into Pandas DataFrame\")\n",
    "except Exception as e:\n",
    "    print(f\"Error loading data: {str(e)}\")\n",
    "\n",
    "# Close the MySQL connection\n",
    "conn.close()\n",
    "print(\"MySQL connection closed\")\n",
    "\n",
    "# Display the first few rows of the DataFrame\n",
    "data.head(5)"
   ]
  },
  {
   "cell_type": "markdown",
   "metadata": {},
   "source": [
    "5. Print the summary of the data."
   ]
  },
  {
   "cell_type": "code",
   "execution_count": 12,
   "metadata": {},
   "outputs": [
    {
     "name": "stdout",
     "output_type": "stream",
     "text": [
      "First 5 rows of the data:\n",
      "          id                                         track_name size_bytes  \\\n",
      "0  281656475                                    PAC-MAN Premium  100788224   \n",
      "1  281796108                          Evernote - stay organized  158578688   \n",
      "2  281940292  \"WeatherBug - Local Weather, Radar, Maps, Alerts\"  100524032   \n",
      "3  282614216  \"eBay: Best App to Buy, Sell, Save! Online Sho...  128512000   \n",
      "4  282935706                                              Bible   92774400   \n",
      "\n",
      "  price rating_count_tot rating_count_ver user_rating user_rating_ver  \\\n",
      "0  3.99            21292               26           4             4.5   \n",
      "1     0           161065               26           4             3.5   \n",
      "2     0           188583             2822         3.5             4.5   \n",
      "3     0           262241              649           4             4.5   \n",
      "4     0           985920             5320         4.5               5   \n",
      "\n",
      "    prime_genre  \n",
      "0         Games  \n",
      "1  Productivity  \n",
      "2       Weather  \n",
      "3      Shopping  \n",
      "4     Reference  \n",
      "\n",
      "Summary of the data:\n",
      "               id         track_name size_bytes price rating_count_tot  \\\n",
      "count        7197               7197       7197  7197             7197   \n",
      "unique       7197               7195       7107    36             3185   \n",
      "top     281656475  VR Roller Coaster   31624192     0                0   \n",
      "freq            1                  2          3  4056              929   \n",
      "\n",
      "       rating_count_ver user_rating user_rating_ver prime_genre  \n",
      "count              7197        7197            7197        7197  \n",
      "unique             1138          10              10          23  \n",
      "top                   0         4.5             4.5       Games  \n",
      "freq               1443        2663            2205        3862  \n",
      "\n",
      "Concise summary of the DataFrame:\n",
      "<class 'pandas.core.frame.DataFrame'>\n",
      "RangeIndex: 7197 entries, 0 to 7196\n",
      "Data columns (total 9 columns):\n",
      " #   Column            Non-Null Count  Dtype \n",
      "---  ------            --------------  ----- \n",
      " 0   id                7197 non-null   object\n",
      " 1   track_name        7197 non-null   object\n",
      " 2   size_bytes        7197 non-null   object\n",
      " 3   price             7197 non-null   object\n",
      " 4   rating_count_tot  7197 non-null   object\n",
      " 5   rating_count_ver  7197 non-null   object\n",
      " 6   user_rating       7197 non-null   object\n",
      " 7   user_rating_ver   7197 non-null   object\n",
      " 8   prime_genre       7197 non-null   object\n",
      "dtypes: object(9)\n",
      "memory usage: 506.2+ KB\n",
      "None\n"
     ]
    }
   ],
   "source": [
    "# your code here    \n",
    "# Display the first few rows of the DataFrame\n",
    "print(\"First 5 rows of the data:\")\n",
    "print(data.head())\n",
    "\n",
    "# Display the summary of the data\n",
    "print(\"\\nSummary of the data:\")\n",
    "print(data.describe(include='all'))\n",
    "\n",
    "# Display the concise summary of the DataFrame\n",
    "print(\"\\nConcise summary of the DataFrame:\")\n",
    "print(data.info())\n"
   ]
  },
  {
   "cell_type": "markdown",
   "metadata": {},
   "source": [
    " 6. Print the number of columns in the data."
   ]
  },
  {
   "cell_type": "code",
   "execution_count": 15,
   "metadata": {},
   "outputs": [
    {
     "name": "stdout",
     "output_type": "stream",
     "text": [
      "Number of columns in the data: 9\n"
     ]
    }
   ],
   "source": [
    "# your code here\n",
    "# Print the number of columns in the data\n",
    "num_columns = data.shape[1]\n",
    "print(f\"Number of columns in the data: {num_columns}\")\n"
   ]
  },
  {
   "cell_type": "markdown",
   "metadata": {},
   "source": [
    "#### 7. Print all column names."
   ]
  },
  {
   "cell_type": "code",
   "execution_count": 16,
   "metadata": {},
   "outputs": [
    {
     "name": "stdout",
     "output_type": "stream",
     "text": [
      "Column names in the data:\n",
      "id\n",
      "track_name\n",
      "size_bytes\n",
      "price\n",
      "rating_count_tot\n",
      "rating_count_ver\n",
      "user_rating\n",
      "user_rating_ver\n",
      "prime_genre\n"
     ]
    }
   ],
   "source": [
    "# your code here\n",
    "# Print all column names\n",
    "column_names = data.columns\n",
    "print(\"Column names in the data:\")\n",
    "for col in column_names:\n",
    "    print(col)\n"
   ]
  },
  {
   "cell_type": "markdown",
   "metadata": {},
   "source": [
    "#### 8.- Now that we have a general understanding of the data, we'll start working on the challenge questions. How many apps are there in the data source? Print the number of observations of the data.\n",
    "\n",
    "**Hint**: Your code should return the number 7197."
   ]
  },
  {
   "cell_type": "code",
   "execution_count": 17,
   "metadata": {},
   "outputs": [
    {
     "name": "stdout",
     "output_type": "stream",
     "text": [
      "Number of apps in the data source: 7197\n"
     ]
    }
   ],
   "source": [
    "# your code here\n",
    "# Print the number of observations (rows) in the DataFrame\n",
    "num_apps = data.shape[0]\n",
    "print(\"Number of apps in the data source:\", num_apps)\n"
   ]
  },
  {
   "cell_type": "markdown",
   "metadata": {},
   "source": [
    "#### 9. What is the average rating of all apps? \n",
    "\n",
    "First, read the `user_rating` column into a varialbe named `user_rating`."
   ]
  },
  {
   "cell_type": "code",
   "execution_count": 23,
   "metadata": {},
   "outputs": [
    {
     "name": "stdout",
     "output_type": "stream",
     "text": [
      "0    4.0\n",
      "1    4.0\n",
      "2    3.5\n",
      "3    4.0\n",
      "4    4.5\n",
      "Name: user_rating, dtype: float64\n"
     ]
    }
   ],
   "source": [
    "# your code here\n",
    "# Ensure 'user_rating' column is numeric, handle non-numeric values\n",
    "data['user_rating'] = pd.to_numeric(data['user_rating'], errors='coerce')\n",
    "\n",
    "# Extract 'user_rating' column into a variable\n",
    "user_rating = data['user_rating']\n",
    "\n",
    "# Print first few values to verify\n",
    "print(user_rating.head())"
   ]
  },
  {
   "cell_type": "markdown",
   "metadata": {},
   "source": [
    "Now you can calculate the average of the `user_rating` data.\n",
    "\n",
    "**Hint**: Your code should return 3.526955675976101."
   ]
  },
  {
   "cell_type": "code",
   "execution_count": 24,
   "metadata": {},
   "outputs": [
    {
     "name": "stdout",
     "output_type": "stream",
     "text": [
      "3.526955675976101\n"
     ]
    }
   ],
   "source": [
    "# your code here\n",
    "# Calculate average of 'user_rating' column\n",
    "average_rating = data['user_rating'].mean()\n",
    "\n",
    "# Print the average rating\n",
    "print(average_rating)"
   ]
  },
  {
   "cell_type": "markdown",
   "metadata": {},
   "source": [
    "#### 10. How many apps have an average rating no less than 4?\n",
    "\n",
    "First, filter `user_rating` where its value >= 4. \n",
    "\n",
    "Assign the filtered dataframe to a new variable called `user_rating_high`."
   ]
  },
  {
   "cell_type": "code",
   "execution_count": 26,
   "metadata": {},
   "outputs": [],
   "source": [
    "# your code here\n",
    "# Filter the DataFrame where user_rating is >= 4\n",
    "user_rating_high = data[data['user_rating'] >= 4]\n"
   ]
  },
  {
   "cell_type": "markdown",
   "metadata": {},
   "source": [
    "Now obtain the length of `user_rating_high` which should return 4781."
   ]
  },
  {
   "cell_type": "code",
   "execution_count": 27,
   "metadata": {},
   "outputs": [
    {
     "name": "stdout",
     "output_type": "stream",
     "text": [
      "4781\n"
     ]
    }
   ],
   "source": [
    "# your code here\n",
    "# Length of user_rating_high\n",
    "num_apps_high_rating = len(user_rating_high)\n",
    "\n",
    "# Print the result\n",
    "print(num_apps_high_rating)\n"
   ]
  },
  {
   "cell_type": "markdown",
   "metadata": {},
   "source": [
    "#### 11. How many genres are there in total for all the apps?\n",
    "\n",
    "Define a new variable named `genres` that contains the `prime_genre` column of `data`. Google for how to obtain unique values of a dataframe column. "
   ]
  },
  {
   "cell_type": "code",
   "execution_count": 31,
   "metadata": {},
   "outputs": [],
   "source": [
    "# your code here\n",
    "# Extract the prime_genre column\n",
    "genres = data['prime_genre']\n",
    "\n",
    "# Get unique values of genres\n",
    "unique_genres = genres.unique()\n"
   ]
  },
  {
   "cell_type": "markdown",
   "metadata": {},
   "source": [
    "Print the length of the unique values of `genres`. Your code should return 23."
   ]
  },
  {
   "cell_type": "code",
   "execution_count": 30,
   "metadata": {},
   "outputs": [
    {
     "name": "stdout",
     "output_type": "stream",
     "text": [
      "23\n"
     ]
    }
   ],
   "source": [
    "# your code here\n",
    "# Calculate the number of unique genres\n",
    "num_genres = len(unique_genres)\n",
    "\n",
    "# Print the result\n",
    "print(num_genres)\n"
   ]
  },
  {
   "cell_type": "markdown",
   "metadata": {},
   "source": [
    "#### 12. What are the top 3 genres that have the most number of apps?\n",
    "\n",
    "What you want to do is to count the number of occurrences of each unique genre values. Because you already know how to obtain the unique genre values, you can of course count the # of apps of each genre one by one. However, Pandas has a convient function to let you count all values of a dataframe column with a single command. Google for \"pandas count values\" to find the solution. Your code should return the following:\n",
    "\n",
    "```\n",
    "Games            3862\n",
    "Entertainment     535\n",
    "Education         453\n",
    "Name: prime_genre, dtype: int64\n",
    "```"
   ]
  },
  {
   "cell_type": "code",
   "execution_count": 32,
   "metadata": {},
   "outputs": [
    {
     "name": "stdout",
     "output_type": "stream",
     "text": [
      "prime_genre\n",
      "Games            3862\n",
      "Entertainment     535\n",
      "Education         453\n",
      "Name: count, dtype: int64\n"
     ]
    }
   ],
   "source": [
    "# your code here\n",
    "# Count the number of apps for each genre\n",
    "top_genres = data['prime_genre'].value_counts()\n",
    "\n",
    "# Print the top 3 genres\n",
    "print(top_genres.head(3))\n"
   ]
  },
  {
   "cell_type": "markdown",
   "metadata": {},
   "source": [
    " 13. Which genre is most likely to contain free apps?\n",
    "\n",
    "First, filter `data` where the price is 0.00. Assign the filtered data to a new variable called `free_apps`. Then count the values in `free_apps`. Your code should return:\n",
    "\n",
    "```\n",
    "Games                2257\n",
    "Entertainment         334\n",
    "Photo & Video         167\n",
    "Social Networking     143\n",
    "Education             132\n",
    "Shopping              121\n",
    "Utilities             109\n",
    "Lifestyle              94\n",
    "Finance                84\n",
    "Sports                 79\n",
    "Health & Fitness       76\n",
    "Music                  67\n",
    "Book                   66\n",
    "Productivity           62\n",
    "News                   58\n",
    "Travel                 56\n",
    "Food & Drink           43\n",
    "Weather                31\n",
    "Navigation             20\n",
    "Reference              20\n",
    "Business               20\n",
    "Catalogs                9\n",
    "Medical                 8\n",
    "Name: prime_genre, dtype: int64\n",
    "```"
   ]
  },
  {
   "cell_type": "code",
   "execution_count": 39,
   "metadata": {},
   "outputs": [
    {
     "name": "stdout",
     "output_type": "stream",
     "text": [
      "Series([], Name: count, dtype: int64)\n"
     ]
    }
   ],
   "source": [
    "# your code here\n",
    "# Filter data where price is 0.00 (free apps)\n",
    "free_apps = data[data['price'] == 0.00]\n",
    "\n",
    "# Count the number of apps for each genre in free_apps\n",
    "free_apps_counts = free_apps['prime_genre'].value_counts()\n",
    "\n",
    "# Print the result\n",
    "print(free_apps_counts)\n",
    "#looks like there are no free app based on the output"
   ]
  },
  {
   "cell_type": "code",
   "execution_count": 38,
   "metadata": {},
   "outputs": [
    {
     "name": "stdout",
     "output_type": "stream",
     "text": [
      "['3.99' '0' '0.99' '9.99' '4.99' '7.99' '2.99' '1.99' '5.99' '12.99'\n",
      " '21.99' '249.99' '6.99' '74.99' '19.99' '8.99' '24.99' '13.99' '14.99'\n",
      " '16.99' '47.99' '11.99' '59.99' '15.99' '27.99' '17.99' '299.99' '49.99'\n",
      " '23.99' '20.99' '39.99' '99.99' '29.99' '34.99' '18.99' '22.99']\n"
     ]
    }
   ],
   "source": [
    "unique_prices = data['price'].unique()\n",
    "print(unique_prices)"
   ]
  },
  {
   "cell_type": "markdown",
   "metadata": {},
   "source": [
    "#### 14. Now you can calculate the proportion of the free apps in each genre based on the value counts you obtained in the previous two steps. \n",
    "\n",
    "Challenge yourself by achieving that with one line of code. The output should look like:\n",
    "\n",
    "```\n",
    "Shopping             0.991803\n",
    "Catalogs             0.900000\n",
    "Social Networking    0.856287\n",
    "Finance              0.807692\n",
    "News                 0.773333\n",
    "Sports               0.692982\n",
    "Travel               0.691358\n",
    "Food & Drink         0.682540\n",
    "Lifestyle            0.652778\n",
    "Entertainment        0.624299\n",
    "Book                 0.589286\n",
    "Games                0.584412\n",
    "Music                0.485507\n",
    "Photo & Video        0.478510\n",
    "Utilities            0.439516\n",
    "Navigation           0.434783\n",
    "Weather              0.430556\n",
    "Health & Fitness     0.422222\n",
    "Business             0.350877\n",
    "Productivity         0.348315\n",
    "Medical              0.347826\n",
    "Reference            0.312500\n",
    "Education            0.291391\n",
    "Name: prime_genre, dtype: float64\n",
    "```\n",
    "\n",
    "The numbers are interesting, aren't they?"
   ]
  },
  {
   "cell_type": "code",
   "execution_count": 42,
   "metadata": {},
   "outputs": [
    {
     "name": "stdout",
     "output_type": "stream",
     "text": [
      "prime_genre\n",
      "Book                NaN\n",
      "Business            NaN\n",
      "Catalogs            NaN\n",
      "Education           NaN\n",
      "Entertainment       NaN\n",
      "Finance             NaN\n",
      "Food & Drink        NaN\n",
      "Games               NaN\n",
      "Health & Fitness    NaN\n",
      "Lifestyle           NaN\n",
      "Medical             NaN\n",
      "Music               NaN\n",
      "Navigation          NaN\n",
      "News                NaN\n",
      "Photo & Video       NaN\n",
      "Productivity        NaN\n",
      "Reference           NaN\n",
      "Shopping            NaN\n",
      "Social Networking   NaN\n",
      "Sports              NaN\n",
      "Travel              NaN\n",
      "Utilities           NaN\n",
      "Weather             NaN\n",
      "Name: count, dtype: float64\n"
     ]
    }
   ],
   "source": [
    "# your code here\n",
    "# Calculate total apps per genre\n",
    "total_apps_per_genre = data['prime_genre'].value_counts()\n",
    "\n",
    "#  Calculate free apps per genre\n",
    "free_apps = data[data['price'] == 0]\n",
    "free_apps_per_genre = free_apps['prime_genre'].value_counts()\n",
    "\n",
    "#  Calculate proportion of free apps in each genre\n",
    "proportion_free_apps = free_apps_per_genre / total_apps_per_genre\n",
    "\n",
    "# Print the result\n",
    "print(proportion_free_apps)\n"
   ]
  },
  {
   "cell_type": "markdown",
   "metadata": {},
   "source": [
    "#### 15. If a developer tries to make money by developing and selling Apple Store apps, in which genre should s/he develop the apps? Please assume all apps cost the same amount of time and expense to develop.\n",
    "\n",
    "We will leave this question to you. There are several way to solve it. Ideally your output should look like below:\n",
    "\n",
    "```\n",
    "    average_price              genre\n",
    "21       8.776087            Medical\n",
    "11       5.116316           Business\n",
    "4        4.836875          Reference\n",
    "6        4.835435              Music\n",
    "1        4.330562       Productivity\n",
    "15       4.124783         Navigation\n",
    "16       4.028234          Education\n",
    "12       1.916444   Health & Fitness\n",
    "20       1.790536               Book\n",
    "7        1.647621          Utilities\n",
    "2        1.605417            Weather\n",
    "18       1.552381       Food & Drink\n",
    "14       1.473295      Photo & Video\n",
    "0        1.432923              Games\n",
    "8        1.120370             Travel\n",
    "10       0.953070             Sports\n",
    "13       0.889701      Entertainment\n",
    "17       0.885417          Lifestyle\n",
    "22       0.799000           Catalogs\n",
    "19       0.517733               News\n",
    "5        0.421154            Finance\n",
    "9        0.339880  Social Networking\n",
    "3        0.016311           Shopping\n",
    "```"
   ]
  },
  {
   "cell_type": "code",
   "execution_count": 46,
   "metadata": {},
   "outputs": [
    {
     "name": "stdout",
     "output_type": "stream",
     "text": [
      "id                   object\n",
      "track_name           object\n",
      "size_bytes           object\n",
      "price               float64\n",
      "rating_count_tot     object\n",
      "rating_count_ver     object\n",
      "user_rating         float64\n",
      "user_rating_ver      object\n",
      "prime_genre          object\n",
      "dtype: object\n",
      "          prime_genre      price\n",
      "0             Medical  13.456667\n",
      "1               Music   9.398451\n",
      "2            Catalogs   7.990000\n",
      "3            Business   7.881892\n",
      "4          Navigation   7.297692\n",
      "5           Reference   7.035455\n",
      "6        Productivity   6.645172\n",
      "7           Education   5.684704\n",
      "8        Food & Drink   4.890000\n",
      "9                Book   4.359565\n",
      "10             Travel   3.630000\n",
      "11              Games   3.447944\n",
      "12   Health & Fitness   3.316923\n",
      "13             Sports   3.104286\n",
      "14          Utilities   2.939640\n",
      "15      Photo & Video   2.825165\n",
      "16            Weather   2.819268\n",
      "17          Lifestyle   2.550000\n",
      "18      Entertainment   2.368109\n",
      "19  Social Networking   2.365000\n",
      "20               News   2.284118\n",
      "21            Finance   2.190000\n",
      "22           Shopping   1.990000\n"
     ]
    }
   ],
   "source": [
    "# your code here\n",
    "#Inspect data types\n",
    "print(data.dtypes)\n",
    "\n",
    "#  Convert 'price' column to numeric (if needed)\n",
    "data['price'] = pd.to_numeric(data['price'], errors='coerce')\n",
    "\n",
    "# Filter out free apps (price greater than 0)\n",
    "paid_apps = data[data['price'] > 0]\n",
    "\n",
    "# Group by genre and calculate the average price\n",
    "average_price_by_genre = paid_apps.groupby('prime_genre')['price'].mean().reset_index()\n",
    "\n",
    "# Sort by average price in descending order\n",
    "average_price_by_genre = average_price_by_genre.sort_values(by='price', ascending=False)\n",
    "\n",
    "# Reset index for better presentation \n",
    "average_price_by_genre.reset_index(drop=True, inplace=True)\n",
    "\n",
    "# Print the result\n",
    "print(average_price_by_genre)\n",
    "\n"
   ]
  },
  {
   "cell_type": "markdown",
   "metadata": {},
   "source": [
    "# Challenge - Applying Functions to DataFrames\n",
    "\n",
    "#### Our next step is to use the apply function to a dataframe and transform all cells.\n",
    "\n",
    "To do this, we will load a dataset below and then write a function that will perform the transformation."
   ]
  },
  {
   "cell_type": "code",
   "execution_count": 50,
   "metadata": {},
   "outputs": [],
   "source": [
    "# Run this code:\n",
    "\n",
    "# The dataset below contains information about pollution from PM2.5 particles in Beijing \n",
    "\n",
    "url = \"https://archive.ics.uci.edu/ml/machine-learning-databases/00381/PRSA_data_2010.1.1-2014.12.31.csv\"\n",
    "pm25 = pd.read_csv(url)"
   ]
  },
  {
   "cell_type": "markdown",
   "metadata": {},
   "source": [
    "Let's look at the data using the head() function."
   ]
  },
  {
   "cell_type": "code",
   "execution_count": 51,
   "metadata": {},
   "outputs": [
    {
     "name": "stdout",
     "output_type": "stream",
     "text": [
      "   No  year  month  day  hour  pm2.5  DEWP  TEMP    PRES cbwd    Iws  Is  Ir\n",
      "0   1  2010      1    1     0    NaN   -21 -11.0  1021.0   NW   1.79   0   0\n",
      "1   2  2010      1    1     1    NaN   -21 -12.0  1020.0   NW   4.92   0   0\n",
      "2   3  2010      1    1     2    NaN   -21 -11.0  1019.0   NW   6.71   0   0\n",
      "3   4  2010      1    1     3    NaN   -21 -14.0  1019.0   NW   9.84   0   0\n",
      "4   5  2010      1    1     4    NaN   -20 -12.0  1018.0   NW  12.97   0   0\n",
      "   No  year  month  day  hour  pm2.5  DEWP  TEMP    PRES cbwd    Iws  Is  Ir\n",
      "0   1  2010      1    1     0    NaN   -21 -11.0  1021.0   NW   1.79   0   0\n",
      "1   2  2010      1    1     1    NaN   -21 -12.0  1020.0   NW   4.92   0   0\n",
      "2   3  2010      1    1     2    NaN   -21 -11.0  1019.0   NW   6.71   0   0\n",
      "3   4  2010      1    1     3    NaN   -21 -14.0  1019.0   NW   9.84   0   0\n",
      "4   5  2010      1    1     4    NaN   -20 -12.0  1018.0   NW  12.97   0   0\n"
     ]
    },
    {
     "name": "stderr",
     "output_type": "stream",
     "text": [
      "C:\\Users\\navin\\AppData\\Local\\Temp\\ipykernel_19636\\4205504246.py:13: FutureWarning: DataFrame.applymap has been deprecated. Use DataFrame.map instead.\n",
      "  pm25_transformed = pm25.applymap(transform_cell)\n"
     ]
    }
   ],
   "source": [
    "# Your code here:\n",
    "# Display the first few rows to understand the structure of the dataset\n",
    "print(pm25.head())\n",
    "\n",
    "# Define a function to apply a transformation (e.g., converting all cells to uppercase)\n",
    "def transform_cell(cell_value):\n",
    "    if isinstance(cell_value, str):\n",
    "        return cell_value.upper()  # Example transformation: convert to uppercase\n",
    "    else:\n",
    "        return cell_value  # Return unchanged for non-string values\n",
    "\n",
    "# Apply the function to transform all cells in the DataFrame\n",
    "pm25_transformed = pm25.applymap(transform_cell)\n",
    "\n",
    "# Display the first few rows of the transformed DataFrame\n",
    "print(pm25_transformed.head())\n"
   ]
  },
  {
   "cell_type": "markdown",
   "metadata": {},
   "source": [
    "The next step is to create a function that divides a cell by 24 to produce an hourly figure. Write the function below."
   ]
  },
  {
   "cell_type": "code",
   "execution_count": 53,
   "metadata": {},
   "outputs": [],
   "source": [
    "def hourly(x):\n",
    "    '''\n",
    "    Input: A numerical value\n",
    "    Output: The value divided by 24\n",
    "        \n",
    "    Example:\n",
    "    Input: 48\n",
    "    Output: 2.0\n",
    "    '''\n",
    "    \n",
    "    # Your code here:\n",
    "    if isinstance(x, (int, float)):\n",
    "        return x / 24\n",
    "    else:\n",
    "        return x  # Return unchanged for non-numeric values"
   ]
  },
  {
   "cell_type": "markdown",
   "metadata": {},
   "source": [
    "Apply this function to the columns Iws, Is, and Ir. Store this new dataframe in the variable pm25_hourly."
   ]
  },
  {
   "cell_type": "code",
   "execution_count": 54,
   "metadata": {},
   "outputs": [
    {
     "name": "stdout",
     "output_type": "stream",
     "text": [
      "     Iws  Is  Ir\n",
      "0   1.79   0   0\n",
      "1   4.92   0   0\n",
      "2   6.71   0   0\n",
      "3   9.84   0   0\n",
      "4  12.97   0   0\n"
     ]
    }
   ],
   "source": [
    "# Your code here:\n",
    "# Apply the hourly function to columns Iws, Is, and Ir\n",
    "pm25_hourly = pm25[['Iws', 'Is', 'Ir']].apply(hourly)\n",
    "\n",
    "# Display the first few rows of the transformed dataframe\n",
    "print(pm25_hourly.head())"
   ]
  },
  {
   "cell_type": "markdown",
   "metadata": {},
   "source": [
    "#### Our last challenge will be to create an aggregate function and apply it to a select group of columns in our dataframe.\n",
    "\n",
    "Write a function that returns the standard deviation of a column divided by the length of a column minus 1. Since we are using pandas, do not use the `len()` function. One alternative is to use `count()`. Also, use the numpy version of standard deviation."
   ]
  },
  {
   "cell_type": "code",
   "execution_count": 67,
   "metadata": {},
   "outputs": [
    {
     "name": "stdout",
     "output_type": "stream",
     "text": [
      "0.37267799624996495\n"
     ]
    }
   ],
   "source": [
    "def sample_sd(x):\n",
    "    '''\n",
    "    Input: A Pandas series of values\n",
    "    Output: the standard deviation divided by the number of elements in the series, minus 1 \n",
    "        \n",
    "    Example:\n",
    "    Input: pd.Series([1,2,3,4])\n",
    "    Output: 0.3726779962\n",
    "    '''\n",
    "    \n",
    "    # Your code here:\n",
    "\n",
    "    std_dev = np.std(x)  # Calculate standard deviation using NumPy\n",
    "    n_minus_1 = x.count() - 1  # Calculate (n-1) using Pandas .count() method\n",
    "    return std_dev / n_minus_1\n",
    "\n",
    "# Example usage:\n",
    "example_series = pd.Series([1, 2, 3, 4])\n",
    "print(sample_sd(example_series))"
   ]
  },
  {
   "cell_type": "code",
   "execution_count": null,
   "metadata": {},
   "outputs": [],
   "source": []
  }
 ],
 "metadata": {
  "kernelspec": {
   "display_name": "Python 3 (ipykernel)",
   "language": "python",
   "name": "python3"
  },
  "language_info": {
   "codemirror_mode": {
    "name": "ipython",
    "version": 3
   },
   "file_extension": ".py",
   "mimetype": "text/x-python",
   "name": "python",
   "nbconvert_exporter": "python",
   "pygments_lexer": "ipython3",
   "version": "3.11.7"
  },
  "toc": {
   "base_numbering": 1,
   "nav_menu": {},
   "number_sections": false,
   "sideBar": true,
   "skip_h1_title": false,
   "title_cell": "Table of Contents",
   "title_sidebar": "Contents",
   "toc_cell": false,
   "toc_position": {},
   "toc_section_display": true,
   "toc_window_display": false
  },
  "varInspector": {
   "cols": {
    "lenName": 16,
    "lenType": 16,
    "lenVar": 40
   },
   "kernels_config": {
    "python": {
     "delete_cmd_postfix": "",
     "delete_cmd_prefix": "del ",
     "library": "var_list.py",
     "varRefreshCmd": "print(var_dic_list())"
    },
    "r": {
     "delete_cmd_postfix": ") ",
     "delete_cmd_prefix": "rm(",
     "library": "var_list.r",
     "varRefreshCmd": "cat(var_dic_list()) "
    }
   },
   "types_to_exclude": [
    "module",
    "function",
    "builtin_function_or_method",
    "instance",
    "_Feature"
   ],
   "window_display": false
  }
 },
 "nbformat": 4,
 "nbformat_minor": 4
}
